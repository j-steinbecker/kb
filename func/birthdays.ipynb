{
 "cells": [
  {
   "cell_type": "code",
   "execution_count": null,
   "metadata": {},
   "outputs": [],
   "source": [
    "\"Setting Up Birthdays\"\n",
    "bds = {\"Josh\"  : dt.date(1995, 3, 27),\n",
    "       \"Lori\"  : dt.date(1969, 2, 20),\n",
    "       \"Ariel\" : dt.date(1998, 8, 25),\n",
    "       \"Larry\" : dt.date(1967, 5, 30),\n",
    "       \"Ian\"   : dt.date(2002, 11, 8)}\n"
   ]
  },
  {
   "cell_type": "code",
   "execution_count": null,
   "metadata": {},
   "outputs": [],
   "source": [
    "\"LAMBDA FUNCTIONS\"\n",
    "getWeekday = lambda x: \"SUN MON TUE WED THU FRI SAT\".split(\" \")[x.isoweekday()]\n",
    "getAge = lambda x: (dt.date.today() - x).days\n",
    "\n",
    "###############################################################################\n",
    "# %%\n",
    "agelist = []\n",
    "for x in bds.values():\n",
    "   y = getAge (x)\n",
    "   agelist.append(y)\n",
    "agelist\n",
    "# %%\n",
    "\"COMPARISON WITH JOSH'S AGE\"\n",
    "for x in range(len(bds)):\n",
    "   y = agelist [x]\n",
    "   names = list(bds.keys())\n",
    "   name = names[x]\n",
    "   print(name,\"is\",round(agelist[x]/agelist[0],2),\"times Josh's Age\")"
   ]
  }
 ],
 "metadata": {
  "language_info": {
   "name": "python"
  },
  "orig_nbformat": 4
 },
 "nbformat": 4,
 "nbformat_minor": 2
}
