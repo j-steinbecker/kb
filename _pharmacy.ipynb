{
 "cells": [
  {
   "cell_type": "code",
   "execution_count": 26,
   "metadata": {},
   "outputs": [],
   "source": [
    "import pandas as pd\n",
    "import numpy as np\n",
    "from IPython.display import display\n",
    "import yaml\n",
    "import pprint\n",
    "\n",
    "from func.alligate import Alligate"
   ]
  },
  {
   "cell_type": "code",
   "execution_count": 14,
   "metadata": {},
   "outputs": [],
   "source": [
    "DATAYAML = \"\"\"\n",
    "---\n",
    "2022:\n",
    "    04:\n",
    "        30: 7C\n",
    "    05:\n",
    "        1:  7C\n",
    "        3:  EI\n",
    "        5:  EI\n",
    "        9:  3\n",
    "        10: 3\n",
    "...\n",
    "\"\"\""
   ]
  },
  {
   "cell_type": "code",
   "execution_count": 15,
   "metadata": {},
   "outputs": [],
   "source": [
    "def yml (data):\n",
    "    return yaml.load(data,Loader=yaml.Loader)"
   ]
  },
  {
   "cell_type": "code",
   "execution_count": 28,
   "metadata": {},
   "outputs": [
    {
     "data": {
      "text/plain": [
       "'RECEPIE FOR\\n345mL of 1.3% NaCl\\n---------------------------------------------\\n\\n\\t+ 65.71mL of 3.0% NaCl\\n\\n\\t+ 279.29mL of 0.9% NaCl\\n\\n---------------------------------------------\\n\\\\t   345mL of 1.3% NaCl'"
      ]
     },
     "execution_count": 28,
     "metadata": {},
     "output_type": "execute_result"
    }
   ],
   "source": [
    "Alligate(\n",
    "    \"NaCl\",\n",
    "    0.03,\n",
    "    0.009,\n",
    "    0.013,\n",
    "    345) # mL"
   ]
  },
  {
   "cell_type": "code",
   "execution_count": 2,
   "metadata": {},
   "outputs": [
    {
     "data": {
      "text/html": [
       "<div>\n",
       "<style scoped>\n",
       "    .dataframe tbody tr th:only-of-type {\n",
       "        vertical-align: middle;\n",
       "    }\n",
       "\n",
       "    .dataframe tbody tr th {\n",
       "        vertical-align: top;\n",
       "    }\n",
       "\n",
       "    .dataframe thead th {\n",
       "        text-align: right;\n",
       "    }\n",
       "</style>\n",
       "<table border=\"1\" class=\"dataframe\">\n",
       "  <thead>\n",
       "    <tr style=\"text-align: right;\">\n",
       "      <th></th>\n",
       "      <th>A</th>\n",
       "      <th>B</th>\n",
       "      <th>C</th>\n",
       "      <th>D</th>\n",
       "      <th>E</th>\n",
       "      <th>F</th>\n",
       "      <th>G</th>\n",
       "      <th>H</th>\n",
       "      <th>I</th>\n",
       "      <th>J</th>\n",
       "      <th>K</th>\n",
       "    </tr>\n",
       "  </thead>\n",
       "  <tbody>\n",
       "    <tr>\n",
       "      <th>num</th>\n",
       "      <td>1</td>\n",
       "      <td>2</td>\n",
       "      <td>6</td>\n",
       "      <td>3</td>\n",
       "      <td>5</td>\n",
       "      <td>19</td>\n",
       "      <td>22</td>\n",
       "      <td>1</td>\n",
       "      <td>5</td>\n",
       "      <td>2</td>\n",
       "      <td>14</td>\n",
       "    </tr>\n",
       "    <tr>\n",
       "      <th>val</th>\n",
       "      <td>1</td>\n",
       "      <td>1</td>\n",
       "      <td>2</td>\n",
       "      <td>2</td>\n",
       "      <td>3</td>\n",
       "      <td>1</td>\n",
       "      <td>2</td>\n",
       "      <td>4</td>\n",
       "      <td>2</td>\n",
       "      <td>5</td>\n",
       "      <td>9</td>\n",
       "    </tr>\n",
       "  </tbody>\n",
       "</table>\n",
       "</div>"
      ],
      "text/plain": [
       "     A  B  C  D  E   F   G  H  I  J   K\n",
       "num  1  2  6  3  5  19  22  1  5  2  14\n",
       "val  1  1  2  2  3   1   2  4  2  5   9"
      ]
     },
     "execution_count": 2,
     "metadata": {},
     "output_type": "execute_result"
    }
   ],
   "source": [
    "letters = list(\"ABCDEFGHIJKLMNOP\")\n",
    "nums = [1,2,6,3,5,19, 22,1,5,2,14]\n",
    "vals = [1,1,2,2,3,1,  2, 4,2,5,9]\n",
    "\n",
    "df = pd.DataFrame(\n",
    "    (nums,vals),\n",
    "    columns= letters[0: len(nums)],\n",
    "    index= [\"num\",\"val\"])\n",
    "df"
   ]
  },
  {
   "cell_type": "code",
   "execution_count": 11,
   "metadata": {},
   "outputs": [
    {
     "data": {
      "text/plain": [
       "<AxesSubplot:>"
      ]
     },
     "execution_count": 11,
     "metadata": {},
     "output_type": "execute_result"
    },
    {
     "data": {
      "image/png": "[encoded data removed]",
      "image/svg+xml": "<?xml version=\"1.0\" encoding=\"utf-8\" standalone=\"no\"?>\n<!DOCTYPE svg PUBLIC \"-//W3C//DTD SVG 1.1//EN\"\n  \"http://www.w3.org/Graphics/SVG/1.1/DTD/svg11.dtd\">\n<svg xmlns:xlink=\"http://www.w3.org/1999/xlink\" width=\"368.925pt\" height=\"248.518125pt\" viewBox=\"0 0 368.925 248.518125\" xmlns=\"http://www.w3.org/2000/svg\" version=\"1.1\">\n <metadata>\n  <rdf:RDF xmlns:dc=\"http://purl.org/dc/elements/1.1/\" xmlns:cc=\"http://creativecommons.org/ns#\" xmlns:rdf=\"http://www.w3.org/1999/02/22-rdf-syntax-ns#\">\n   <cc:Work>\n    <dc:type rdf:resource=\"http://purl.org/dc/dcmitype/StillImage\"/>\n    <dc:date>2022-04-30T07:01:56.201836</dc:date>\n    <dc:format>image/svg+xml</dc:format>\n    <dc:creator>\n     <cc:Agent>\n      <dc:title>Matplotlib v3.5.1, https://matplotlib.org/</dc:title>\n     </cc:Agent>\n    </dc:creator>\n   </cc:Work>\n  </rdf:RDF>\n </metadata>\n <defs>\n  <style type=\"text/css\">*{stroke-linejoin: round; stroke-linecap: butt}</style>\n </defs>\n <g id=\"figure_1\">\n  <g id=\"patch_1\">\n   <path d=\"M -0 248.518125 \nL 368.925 248.518125 \nL 368.925 0 \nL -0 0 \nz\n\"/>\n  </g>\n  <g id=\"axes_1\">\n   <g id=\"patch_2\">\n    <path d=\"M 26.925 224.64 \nL 361.725 224.64 \nL 361.725 7.2 \nL 26.925 7.2 \nz\n\"/>\n   </g>\n   <g id=\"matplotlib.axis_1\">\n    <g id=\"xtick_1\">\n     <g id=\"line2d_1\">\n      <path d=\"M 42.143182 224.64 \nL 42.143182 7.2 \n\" clip-path=\"url(#p5677b346cb)\" style=\"fill: none; stroke: #ffffff; stroke-width: 0.8; stroke-linecap: square\"/>\n     </g>\n     <g id=\"line2d_2\">\n      <defs>\n       <path id=\"md644c82851\" d=\"M 0 0 \nL 0 3.5 \n\" style=\"stroke: #ffffff; stroke-width: 0.8\"/>\n      </defs>\n      <g>\n       <use xlink:href=\"#md644c82851\" x=\"42.143182\" y=\"224.64\" style=\"fill: #ffffff; stroke: #ffffff; stroke-width: 0.8\"/>\n      </g>\n     </g>\n     <g id=\"text_1\">\n      <!-- A -->\n      <g style=\"fill: #ffffff\" transform=\"translate(38.722869 239.238437)scale(0.1 -0.1)\">\n       <defs>\n        <path id=\"DejaVuSans-41\" d=\"M 2188 4044 \nL 1331 1722 \nL 3047 1722 \nL 2188 4044 \nz\nM 1831 4666 \nL 2547 4666 \nL 4325 0 \nL 3669 0 \nL 3244 1197 \nL 1141 1197 \nL 716 0 \nL 50 0 \nL 1831 4666 \nz\n\" transform=\"scale(0.015625)\"/>\n       </defs>\n       <use xlink:href=\"#DejaVuSans-41\"/>\n      </g>\n     </g>\n    </g>\n    <g id=\"xtick_2\">\n     <g id=\"line2d_3\">\n      <path d=\"M 72.579545 224.64 \nL 72.579545 7.2 \n\" clip-path=\"url(#p5677b346cb)\" style=\"fill: none; stroke: #ffffff; stroke-width: 0.8; stroke-linecap: square\"/>\n     </g>\n     <g id=\"line2d_4\">\n      <g>\n       <use xlink:href=\"#md644c82851\" x=\"72.579545\" y=\"224.64\" style=\"fill: #ffffff; stroke: #ffffff; stroke-width: 0.8\"/>\n      </g>\n     </g>\n     <g id=\"text_2\">\n      <!-- B -->\n      <g style=\"fill: #ffffff\" transform=\"translate(69.149077 239.238437)scale(0.1 -0.1)\">\n       <defs>\n        <path id=\"DejaVuSans-42\" d=\"M 1259 2228 \nL 1259 519 \nL 2272 519 \nQ 2781 519 3026 730 \nQ 3272 941 3272 1375 \nQ 3272 1813 3026 2020 \nQ 2781 2228 2272 2228 \nL 1259 2228 \nz\nM 1259 4147 \nL 1259 2741 \nL 2194 2741 \nQ 2656 2741 2882 2914 \nQ 3109 3088 3109 3444 \nQ 3109 3797 2882 3972 \nQ 2656 4147 2194 4147 \nL 1259 4147 \nz\nM 628 4666 \nL 2241 4666 \nQ 2963 4666 3353 4366 \nQ 3744 4066 3744 3513 \nQ 3744 3084 3544 2831 \nQ 3344 2578 2956 2516 \nQ 3422 2416 3680 2098 \nQ 3938 1781 3938 1306 \nQ 3938 681 3513 340 \nQ 3088 0 2303 0 \nL 628 0 \nL 628 4666 \nz\n\" transform=\"scale(0.015625)\"/>\n       </defs>\n       <use xlink:href=\"#DejaVuSans-42\"/>\n      </g>\n     </g>\n    </g>\n    <g id=\"xtick_3\">\n     <g id=\"line2d_5\">\n      <path d=\"M 103.015909 224.64 \nL 103.015909 7.2 \n\" clip-path=\"url(#p5677b346cb)\" style=\"fill: none; stroke: #ffffff; stroke-width: 0.8; stroke-linecap: square\"/>\n     </g>\n     <g id=\"line2d_6\">\n      <g>\n       <use xlink:href=\"#md644c82851\" x=\"103.015909\" y=\"224.64\" style=\"fill: #ffffff; stroke: #ffffff; stroke-width: 0.8\"/>\n      </g>\n     </g>\n     <g id=\"text_3\">\n      <!-- C -->\n      <g style=\"fill: #ffffff\" transform=\"translate(99.524503 239.238437)scale(0.1 -0.1)\">\n       <defs>\n        <path id=\"DejaVuSans-43\" d=\"M 4122 4306 \nL 4122 3641 \nQ 3803 3938 3442 4084 \nQ 3081 4231 2675 4231 \nQ 1875 4231 1450 3742 \nQ 1025 3253 1025 2328 \nQ 1025 1406 1450 917 \nQ 1875 428 2675 428 \nQ 3081 428 3442 575 \nQ 3803 722 4122 1019 \nL 4122 359 \nQ 3791 134 3420 21 \nQ 3050 -91 2638 -91 \nQ 1578 -91 968 557 \nQ 359 1206 359 2328 \nQ 359 3453 968 4101 \nQ 1578 4750 2638 4750 \nQ 3056 4750 3426 4639 \nQ 3797 4528 4122 4306 \nz\n\" transform=\"scale(0.015625)\"/>\n       </defs>\n       <use xlink:href=\"#DejaVuSans-43\"/>\n      </g>\n     </g>\n    </g>\n    <g id=\"xtick_4\">\n     <g id=\"line2d_7\">\n      <path d=\"M 133.452273 224.64 \nL 133.452273 7.2 \n\" clip-path=\"url(#p5677b346cb)\" style=\"fill: none; stroke: #ffffff; stroke-width: 0.8; stroke-linecap: square\"/>\n     </g>\n     <g id=\"line2d_8\">\n      <g>\n       <use xlink:href=\"#md644c82851\" x=\"133.452273\" y=\"224.64\" style=\"fill: #ffffff; stroke: #ffffff; stroke-width: 0.8\"/>\n      </g>\n     </g>\n     <g id=\"text_4\">\n      <!-- D -->\n      <g style=\"fill: #ffffff\" transform=\"translate(129.602273 239.238437)scale(0.1 -0.1)\">\n       <defs>\n        <path id=\"DejaVuSans-44\" d=\"M 1259 4147 \nL 1259 519 \nL 2022 519 \nQ 2988 519 3436 956 \nQ 3884 1394 3884 2338 \nQ 3884 3275 3436 3711 \nQ 2988 4147 2022 4147 \nL 1259 4147 \nz\nM 628 4666 \nL 1925 4666 \nQ 3281 4666 3915 4102 \nQ 4550 3538 4550 2338 \nQ 4550 1131 3912 565 \nQ 3275 0 1925 0 \nL 628 0 \nL 628 4666 \nz\n\" transform=\"scale(0.015625)\"/>\n       </defs>\n       <use xlink:href=\"#DejaVuSans-44\"/>\n      </g>\n     </g>\n    </g>\n    <g id=\"xtick_5\">\n     <g id=\"line2d_9\">\n      <path d=\"M 163.888636 224.64 \nL 163.888636 7.2 \n\" clip-path=\"url(#p5677b346cb)\" style=\"fill: none; stroke: #ffffff; stroke-width: 0.8; stroke-linecap: square\"/>\n     </g>\n     <g id=\"line2d_10\">\n      <g>\n       <use xlink:href=\"#md644c82851\" x=\"163.888636\" y=\"224.64\" style=\"fill: #ffffff; stroke: #ffffff; stroke-width: 0.8\"/>\n      </g>\n     </g>\n     <g id=\"text_5\">\n      <!-- E -->\n      <g style=\"fill: #ffffff\" transform=\"translate(160.729261 239.238437)scale(0.1 -0.1)\">\n       <defs>\n        <path id=\"DejaVuSans-45\" d=\"M 628 4666 \nL 3578 4666 \nL 3578 4134 \nL 1259 4134 \nL 1259 2753 \nL 3481 2753 \nL 3481 2222 \nL 1259 2222 \nL 1259 531 \nL 3634 531 \nL 3634 0 \nL 628 0 \nL 628 4666 \nz\n\" transform=\"scale(0.015625)\"/>\n       </defs>\n       <use xlink:href=\"#DejaVuSans-45\"/>\n      </g>\n     </g>\n    </g>\n    <g id=\"xtick_6\">\n     <g id=\"line2d_11\">\n      <path d=\"M 194.325 224.64 \nL 194.325 7.2 \n\" clip-path=\"url(#p5677b346cb)\" style=\"fill: none; stroke: #ffffff; stroke-width: 0.8; stroke-linecap: square\"/>\n     </g>\n     <g id=\"line2d_12\">\n      <g>\n       <use xlink:href=\"#md644c82851\" x=\"194.325\" y=\"224.64\" style=\"fill: #ffffff; stroke: #ffffff; stroke-width: 0.8\"/>\n      </g>\n     </g>\n     <g id=\"text_6\">\n      <!-- F -->\n      <g style=\"fill: #ffffff\" transform=\"translate(191.449219 239.238437)scale(0.1 -0.1)\">\n       <defs>\n        <path id=\"DejaVuSans-46\" d=\"M 628 4666 \nL 3309 4666 \nL 3309 4134 \nL 1259 4134 \nL 1259 2759 \nL 3109 2759 \nL 3109 2228 \nL 1259 2228 \nL 1259 0 \nL 628 0 \nL 628 4666 \nz\n\" transform=\"scale(0.015625)\"/>\n       </defs>\n       <use xlink:href=\"#DejaVuSans-46\"/>\n      </g>\n     </g>\n    </g>\n    <g id=\"xtick_7\">\n     <g id=\"line2d_13\">\n      <path d=\"M 224.761364 224.64 \nL 224.761364 7.2 \n\" clip-path=\"url(#p5677b346cb)\" style=\"fill: none; stroke: #ffffff; stroke-width: 0.8; stroke-linecap: square\"/>\n     </g>\n     <g id=\"line2d_14\">\n      <g>\n       <use xlink:href=\"#md644c82851\" x=\"224.761364\" y=\"224.64\" style=\"fill: #ffffff; stroke: #ffffff; stroke-width: 0.8\"/>\n      </g>\n     </g>\n     <g id=\"text_7\">\n      <!-- G -->\n      <g style=\"fill: #ffffff\" transform=\"translate(220.887145 239.238437)scale(0.1 -0.1)\">\n       <defs>\n        <path id=\"DejaVuSans-47\" d=\"M 3809 666 \nL 3809 1919 \nL 2778 1919 \nL 2778 2438 \nL 4434 2438 \nL 4434 434 \nQ 4069 175 3628 42 \nQ 3188 -91 2688 -91 \nQ 1594 -91 976 548 \nQ 359 1188 359 2328 \nQ 359 3472 976 4111 \nQ 1594 4750 2688 4750 \nQ 3144 4750 3555 4637 \nQ 3966 4525 4313 4306 \nL 4313 3634 \nQ 3963 3931 3569 4081 \nQ 3175 4231 2741 4231 \nQ 1884 4231 1454 3753 \nQ 1025 3275 1025 2328 \nQ 1025 1384 1454 906 \nQ 1884 428 2741 428 \nQ 3075 428 3337 486 \nQ 3600 544 3809 666 \nz\n\" transform=\"scale(0.015625)\"/>\n       </defs>\n       <use xlink:href=\"#DejaVuSans-47\"/>\n      </g>\n     </g>\n    </g>\n    <g id=\"xtick_8\">\n     <g id=\"line2d_15\">\n      <path d=\"M 255.197727 224.64 \nL 255.197727 7.2 \n\" clip-path=\"url(#p5677b346cb)\" style=\"fill: none; stroke: #ffffff; stroke-width: 0.8; stroke-linecap: square\"/>\n     </g>\n     <g id=\"line2d_16\">\n      <g>\n       <use xlink:href=\"#md644c82851\" x=\"255.197727\" y=\"224.64\" style=\"fill: #ffffff; stroke: #ffffff; stroke-width: 0.8\"/>\n      </g>\n     </g>\n     <g id=\"text_8\">\n      <!-- H -->\n      <g style=\"fill: #ffffff\" transform=\"translate(251.437571 239.238437)scale(0.1 -0.1)\">\n       <defs>\n        <path id=\"DejaVuSans-48\" d=\"M 628 4666 \nL 1259 4666 \nL 1259 2753 \nL 3553 2753 \nL 3553 4666 \nL 4184 4666 \nL 4184 0 \nL 3553 0 \nL 3553 2222 \nL 1259 2222 \nL 1259 0 \nL 628 0 \nL 628 4666 \nz\n\" transform=\"scale(0.015625)\"/>\n       </defs>\n       <use xlink:href=\"#DejaVuSans-48\"/>\n      </g>\n     </g>\n    </g>\n    <g id=\"xtick_9\">\n     <g id=\"line2d_17\">\n      <path d=\"M 285.634091 224.64 \nL 285.634091 7.2 \n\" clip-path=\"url(#p5677b346cb)\" style=\"fill: none; stroke: #ffffff; stroke-width: 0.8; stroke-linecap: square\"/>\n     </g>\n     <g id=\"line2d_18\">\n      <g>\n       <use xlink:href=\"#md644c82851\" x=\"285.634091\" y=\"224.64\" style=\"fill: #ffffff; stroke: #ffffff; stroke-width: 0.8\"/>\n      </g>\n     </g>\n     <g id=\"text_9\">\n      <!-- I -->\n      <g style=\"fill: #ffffff\" transform=\"translate(284.159091 239.238437)scale(0.1 -0.1)\">\n       <defs>\n        <path id=\"DejaVuSans-49\" d=\"M 628 4666 \nL 1259 4666 \nL 1259 0 \nL 628 0 \nL 628 4666 \nz\n\" transform=\"scale(0.015625)\"/>\n       </defs>\n       <use xlink:href=\"#DejaVuSans-49\"/>\n      </g>\n     </g>\n    </g>\n    <g id=\"xtick_10\">\n     <g id=\"line2d_19\">\n      <path d=\"M 316.070455 224.64 \nL 316.070455 7.2 \n\" clip-path=\"url(#p5677b346cb)\" style=\"fill: none; stroke: #ffffff; stroke-width: 0.8; stroke-linecap: square\"/>\n     </g>\n     <g id=\"line2d_20\">\n      <g>\n       <use xlink:href=\"#md644c82851\" x=\"316.070455\" y=\"224.64\" style=\"fill: #ffffff; stroke: #ffffff; stroke-width: 0.8\"/>\n      </g>\n     </g>\n     <g id=\"text_10\">\n      <!-- J -->\n      <g style=\"fill: #ffffff\" transform=\"translate(314.595455 239.238437)scale(0.1 -0.1)\">\n       <defs>\n        <path id=\"DejaVuSans-4a\" d=\"M 628 4666 \nL 1259 4666 \nL 1259 325 \nQ 1259 -519 939 -900 \nQ 619 -1281 -91 -1281 \nL -331 -1281 \nL -331 -750 \nL -134 -750 \nQ 284 -750 456 -515 \nQ 628 -281 628 325 \nL 628 4666 \nz\n\" transform=\"scale(0.015625)\"/>\n       </defs>\n       <use xlink:href=\"#DejaVuSans-4a\"/>\n      </g>\n     </g>\n    </g>\n    <g id=\"xtick_11\">\n     <g id=\"line2d_21\">\n      <path d=\"M 346.506818 224.64 \nL 346.506818 7.2 \n\" clip-path=\"url(#p5677b346cb)\" style=\"fill: none; stroke: #ffffff; stroke-width: 0.8; stroke-linecap: square\"/>\n     </g>\n     <g id=\"line2d_22\">\n      <g>\n       <use xlink:href=\"#md644c82851\" x=\"346.506818\" y=\"224.64\" style=\"fill: #ffffff; stroke: #ffffff; stroke-width: 0.8\"/>\n      </g>\n     </g>\n     <g id=\"text_11\">\n      <!-- K -->\n      <g style=\"fill: #ffffff\" transform=\"translate(343.227912 239.238437)scale(0.1 -0.1)\">\n       <defs>\n        <path id=\"DejaVuSans-4b\" d=\"M 628 4666 \nL 1259 4666 \nL 1259 2694 \nL 3353 4666 \nL 4166 4666 \nL 1850 2491 \nL 4331 0 \nL 3500 0 \nL 1259 2247 \nL 1259 0 \nL 628 0 \nL 628 4666 \nz\n\" transform=\"scale(0.015625)\"/>\n       </defs>\n       <use xlink:href=\"#DejaVuSans-4b\"/>\n      </g>\n     </g>\n    </g>\n   </g>\n   <g id=\"matplotlib.axis_2\">\n    <g id=\"ytick_1\">\n     <g id=\"line2d_23\">\n      <path d=\"M 26.925 224.169351 \nL 361.725 224.169351 \n\" clip-path=\"url(#p5677b346cb)\" style=\"fill: none; stroke: #ffffff; stroke-width: 0.8; stroke-linecap: square\"/>\n     </g>\n     <g id=\"line2d_24\">\n      <defs>\n       <path id=\"ma9f14e4b20\" d=\"M 0 0 \nL -3.5 0 \n\" style=\"stroke: #ffffff; stroke-width: 0.8\"/>\n      </defs>\n      <g>\n       <use xlink:href=\"#ma9f14e4b20\" x=\"26.925\" y=\"224.169351\" style=\"fill: #ffffff; stroke: #ffffff; stroke-width: 0.8\"/>\n      </g>\n     </g>\n     <g id=\"text_12\">\n      <!-- 0 -->\n      <g style=\"fill: #ffffff\" transform=\"translate(13.5625 227.968569)scale(0.1 -0.1)\">\n       <defs>\n        <path id=\"DejaVuSans-30\" d=\"M 2034 4250 \nQ 1547 4250 1301 3770 \nQ 1056 3291 1056 2328 \nQ 1056 1369 1301 889 \nQ 1547 409 2034 409 \nQ 2525 409 2770 889 \nQ 3016 1369 3016 2328 \nQ 3016 3291 2770 3770 \nQ 2525 4250 2034 4250 \nz\nM 2034 4750 \nQ 2819 4750 3233 4129 \nQ 3647 3509 3647 2328 \nQ 3647 1150 3233 529 \nQ 2819 -91 2034 -91 \nQ 1250 -91 836 529 \nQ 422 1150 422 2328 \nQ 422 3509 836 4129 \nQ 1250 4750 2034 4750 \nz\n\" transform=\"scale(0.015625)\"/>\n       </defs>\n       <use xlink:href=\"#DejaVuSans-30\"/>\n      </g>\n     </g>\n    </g>\n    <g id=\"ytick_2\">\n     <g id=\"line2d_25\">\n      <path d=\"M 26.925 177.104416 \nL 361.725 177.104416 \n\" clip-path=\"url(#p5677b346cb)\" style=\"fill: none; stroke: #ffffff; stroke-width: 0.8; stroke-linecap: square\"/>\n     </g>\n     <g id=\"line2d_26\">\n      <g>\n       <use xlink:href=\"#ma9f14e4b20\" x=\"26.925\" y=\"177.104416\" style=\"fill: #ffffff; stroke: #ffffff; stroke-width: 0.8\"/>\n      </g>\n     </g>\n     <g id=\"text_13\">\n      <!-- 5 -->\n      <g style=\"fill: #ffffff\" transform=\"translate(13.5625 180.903634)scale(0.1 -0.1)\">\n       <defs>\n        <path id=\"DejaVuSans-35\" d=\"M 691 4666 \nL 3169 4666 \nL 3169 4134 \nL 1269 4134 \nL 1269 2991 \nQ 1406 3038 1543 3061 \nQ 1681 3084 1819 3084 \nQ 2600 3084 3056 2656 \nQ 3513 2228 3513 1497 \nQ 3513 744 3044 326 \nQ 2575 -91 1722 -91 \nQ 1428 -91 1123 -41 \nQ 819 9 494 109 \nL 494 744 \nQ 775 591 1075 516 \nQ 1375 441 1709 441 \nQ 2250 441 2565 725 \nQ 2881 1009 2881 1497 \nQ 2881 1984 2565 2268 \nQ 2250 2553 1709 2553 \nQ 1456 2553 1204 2497 \nQ 953 2441 691 2322 \nL 691 4666 \nz\n\" transform=\"scale(0.015625)\"/>\n       </defs>\n       <use xlink:href=\"#DejaVuSans-35\"/>\n      </g>\n     </g>\n    </g>\n    <g id=\"ytick_3\">\n     <g id=\"line2d_27\">\n      <path d=\"M 26.925 130.039481 \nL 361.725 130.039481 \n\" clip-path=\"url(#p5677b346cb)\" style=\"fill: none; stroke: #ffffff; stroke-width: 0.8; stroke-linecap: square\"/>\n     </g>\n     <g id=\"line2d_28\">\n      <g>\n       <use xlink:href=\"#ma9f14e4b20\" x=\"26.925\" y=\"130.039481\" style=\"fill: #ffffff; stroke: #ffffff; stroke-width: 0.8\"/>\n      </g>\n     </g>\n     <g id=\"text_14\">\n      <!-- 10 -->\n      <g style=\"fill: #ffffff\" transform=\"translate(7.2 133.838699)scale(0.1 -0.1)\">\n       <defs>\n        <path id=\"DejaVuSans-31\" d=\"M 794 531 \nL 1825 531 \nL 1825 4091 \nL 703 3866 \nL 703 4441 \nL 1819 4666 \nL 2450 4666 \nL 2450 531 \nL 3481 531 \nL 3481 0 \nL 794 0 \nL 794 531 \nz\n\" transform=\"scale(0.015625)\"/>\n       </defs>\n       <use xlink:href=\"#DejaVuSans-31\"/>\n       <use xlink:href=\"#DejaVuSans-30\" x=\"63.623047\"/>\n      </g>\n     </g>\n    </g>\n    <g id=\"ytick_4\">\n     <g id=\"line2d_29\">\n      <path d=\"M 26.925 82.974545 \nL 361.725 82.974545 \n\" clip-path=\"url(#p5677b346cb)\" style=\"fill: none; stroke: #ffffff; stroke-width: 0.8; stroke-linecap: square\"/>\n     </g>\n     <g id=\"line2d_30\">\n      <g>\n       <use xlink:href=\"#ma9f14e4b20\" x=\"26.925\" y=\"82.974545\" style=\"fill: #ffffff; stroke: #ffffff; stroke-width: 0.8\"/>\n      </g>\n     </g>\n     <g id=\"text_15\">\n      <!-- 15 -->\n      <g style=\"fill: #ffffff\" transform=\"translate(7.2 86.773764)scale(0.1 -0.1)\">\n       <use xlink:href=\"#DejaVuSans-31\"/>\n       <use xlink:href=\"#DejaVuSans-35\" x=\"63.623047\"/>\n      </g>\n     </g>\n    </g>\n    <g id=\"ytick_5\">\n     <g id=\"line2d_31\">\n      <path d=\"M 26.925 35.90961 \nL 361.725 35.90961 \n\" clip-path=\"url(#p5677b346cb)\" style=\"fill: none; stroke: #ffffff; stroke-width: 0.8; stroke-linecap: square\"/>\n     </g>\n     <g id=\"line2d_32\">\n      <g>\n       <use xlink:href=\"#ma9f14e4b20\" x=\"26.925\" y=\"35.90961\" style=\"fill: #ffffff; stroke: #ffffff; stroke-width: 0.8\"/>\n      </g>\n     </g>\n     <g id=\"text_16\">\n      <!-- 20 -->\n      <g style=\"fill: #ffffff\" transform=\"translate(7.2 39.708829)scale(0.1 -0.1)\">\n       <defs>\n        <path id=\"DejaVuSans-32\" d=\"M 1228 531 \nL 3431 531 \nL 3431 0 \nL 469 0 \nL 469 531 \nQ 828 903 1448 1529 \nQ 2069 2156 2228 2338 \nQ 2531 2678 2651 2914 \nQ 2772 3150 2772 3378 \nQ 2772 3750 2511 3984 \nQ 2250 4219 1831 4219 \nQ 1534 4219 1204 4116 \nQ 875 4013 500 3803 \nL 500 4441 \nQ 881 4594 1212 4672 \nQ 1544 4750 1819 4750 \nQ 2544 4750 2975 4387 \nQ 3406 4025 3406 3419 \nQ 3406 3131 3298 2873 \nQ 3191 2616 2906 2266 \nQ 2828 2175 2409 1742 \nQ 1991 1309 1228 531 \nz\n\" transform=\"scale(0.015625)\"/>\n       </defs>\n       <use xlink:href=\"#DejaVuSans-32\"/>\n       <use xlink:href=\"#DejaVuSans-30\" x=\"63.623047\"/>\n      </g>\n     </g>\n    </g>\n   </g>\n   <g id=\"line2d_33\">\n    <path d=\"M 34.534091 214.756364 \nL 49.752273 214.756364 \nL 49.752273 214.756364 \nL 34.534091 214.756364 \nL 34.534091 214.756364 \n\" clip-path=\"url(#p5677b346cb)\" style=\"fill: none; stroke: #8dd3c7; stroke-linecap: square\"/>\n   </g>\n   <g id=\"line2d_34\">\n    <path d=\"M 42.143182 214.756364 \nL 42.143182 214.756364 \n\" clip-path=\"url(#p5677b346cb)\" style=\"fill: none; stroke: #8dd3c7; stroke-linecap: square\"/>\n   </g>\n   <g id=\"line2d_35\">\n    <path d=\"M 42.143182 214.756364 \nL 42.143182 214.756364 \n\" clip-path=\"url(#p5677b346cb)\" style=\"fill: none; stroke: #8dd3c7; stroke-linecap: square\"/>\n   </g>\n   <g id=\"line2d_36\">\n    <path d=\"M 38.338636 214.756364 \nL 45.947727 214.756364 \n\" clip-path=\"url(#p5677b346cb)\" style=\"fill: none; stroke: #000000; stroke-linecap: square\"/>\n   </g>\n   <g id=\"line2d_37\">\n    <path d=\"M 38.338636 214.756364 \nL 45.947727 214.756364 \n\" clip-path=\"url(#p5677b346cb)\" style=\"fill: none; stroke: #000000; stroke-linecap: square\"/>\n   </g>\n   <g id=\"line2d_38\"/>\n   <g id=\"line2d_39\">\n    <path d=\"M 64.970455 212.403117 \nL 80.188636 212.403117 \nL 80.188636 207.696623 \nL 64.970455 207.696623 \nL 64.970455 212.403117 \n\" clip-path=\"url(#p5677b346cb)\" style=\"fill: none; stroke: #8dd3c7; stroke-linecap: square\"/>\n   </g>\n   <g id=\"line2d_40\">\n    <path d=\"M 72.579545 212.403117 \nL 72.579545 214.756364 \n\" clip-path=\"url(#p5677b346cb)\" style=\"fill: none; stroke: #8dd3c7; stroke-linecap: square\"/>\n   </g>\n   <g id=\"line2d_41\">\n    <path d=\"M 72.579545 207.696623 \nL 72.579545 205.343377 \n\" clip-path=\"url(#p5677b346cb)\" style=\"fill: none; stroke: #8dd3c7; stroke-linecap: square\"/>\n   </g>\n   <g id=\"line2d_42\">\n    <path d=\"M 68.775 214.756364 \nL 76.384091 214.756364 \n\" clip-path=\"url(#p5677b346cb)\" style=\"fill: none; stroke: #000000; stroke-linecap: square\"/>\n   </g>\n   <g id=\"line2d_43\">\n    <path d=\"M 68.775 205.343377 \nL 76.384091 205.343377 \n\" clip-path=\"url(#p5677b346cb)\" style=\"fill: none; stroke: #000000; stroke-linecap: square\"/>\n   </g>\n   <g id=\"line2d_44\"/>\n   <g id=\"line2d_45\">\n    <path d=\"M 95.406818 195.93039 \nL 110.625 195.93039 \nL 110.625 177.104416 \nL 95.406818 177.104416 \nL 95.406818 195.93039 \n\" clip-path=\"url(#p5677b346cb)\" style=\"fill: none; stroke: #8dd3c7; stroke-linecap: square\"/>\n   </g>\n   <g id=\"line2d_46\">\n    <path d=\"M 103.015909 195.93039 \nL 103.015909 205.343377 \n\" clip-path=\"url(#p5677b346cb)\" style=\"fill: none; stroke: #8dd3c7; stroke-linecap: square\"/>\n   </g>\n   <g id=\"line2d_47\">\n    <path d=\"M 103.015909 177.104416 \nL 103.015909 167.691429 \n\" clip-path=\"url(#p5677b346cb)\" style=\"fill: none; stroke: #8dd3c7; stroke-linecap: square\"/>\n   </g>\n   <g id=\"line2d_48\">\n    <path d=\"M 99.211364 205.343377 \nL 106.820455 205.343377 \n\" clip-path=\"url(#p5677b346cb)\" style=\"fill: none; stroke: #000000; stroke-linecap: square\"/>\n   </g>\n   <g id=\"line2d_49\">\n    <path d=\"M 99.211364 167.691429 \nL 106.820455 167.691429 \n\" clip-path=\"url(#p5677b346cb)\" style=\"fill: none; stroke: #000000; stroke-linecap: square\"/>\n   </g>\n   <g id=\"line2d_50\"/>\n   <g id=\"line2d_51\">\n    <path d=\"M 125.843182 202.99013 \nL 141.061364 202.99013 \nL 141.061364 198.283636 \nL 125.843182 198.283636 \nL 125.843182 202.99013 \n\" clip-path=\"url(#p5677b346cb)\" style=\"fill: none; stroke: #8dd3c7; stroke-linecap: square\"/>\n   </g>\n   <g id=\"line2d_52\">\n    <path d=\"M 133.452273 202.99013 \nL 133.452273 205.343377 \n\" clip-path=\"url(#p5677b346cb)\" style=\"fill: none; stroke: #8dd3c7; stroke-linecap: square\"/>\n   </g>\n   <g id=\"line2d_53\">\n    <path d=\"M 133.452273 198.283636 \nL 133.452273 195.93039 \n\" clip-path=\"url(#p5677b346cb)\" style=\"fill: none; stroke: #8dd3c7; stroke-linecap: square\"/>\n   </g>\n   <g id=\"line2d_54\">\n    <path d=\"M 129.647727 205.343377 \nL 137.256818 205.343377 \n\" clip-path=\"url(#p5677b346cb)\" style=\"fill: none; stroke: #000000; stroke-linecap: square\"/>\n   </g>\n   <g id=\"line2d_55\">\n    <path d=\"M 129.647727 195.93039 \nL 137.256818 195.93039 \n\" clip-path=\"url(#p5677b346cb)\" style=\"fill: none; stroke: #000000; stroke-linecap: square\"/>\n   </g>\n   <g id=\"line2d_56\"/>\n   <g id=\"line2d_57\">\n    <path d=\"M 156.279545 191.223896 \nL 171.497727 191.223896 \nL 171.497727 181.810909 \nL 156.279545 181.810909 \nL 156.279545 191.223896 \n\" clip-path=\"url(#p5677b346cb)\" style=\"fill: none; stroke: #8dd3c7; stroke-linecap: square\"/>\n   </g>\n   <g id=\"line2d_58\">\n    <path d=\"M 163.888636 191.223896 \nL 163.888636 195.93039 \n\" clip-path=\"url(#p5677b346cb)\" style=\"fill: none; stroke: #8dd3c7; stroke-linecap: square\"/>\n   </g>\n   <g id=\"line2d_59\">\n    <path d=\"M 163.888636 181.810909 \nL 163.888636 177.104416 \n\" clip-path=\"url(#p5677b346cb)\" style=\"fill: none; stroke: #8dd3c7; stroke-linecap: square\"/>\n   </g>\n   <g id=\"line2d_60\">\n    <path d=\"M 160.084091 195.93039 \nL 167.693182 195.93039 \n\" clip-path=\"url(#p5677b346cb)\" style=\"fill: none; stroke: #000000; stroke-linecap: square\"/>\n   </g>\n   <g id=\"line2d_61\">\n    <path d=\"M 160.084091 177.104416 \nL 167.693182 177.104416 \n\" clip-path=\"url(#p5677b346cb)\" style=\"fill: none; stroke: #000000; stroke-linecap: square\"/>\n   </g>\n   <g id=\"line2d_62\"/>\n   <g id=\"line2d_63\">\n    <path d=\"M 186.715909 172.397922 \nL 201.934091 172.397922 \nL 201.934091 87.681039 \nL 186.715909 87.681039 \nL 186.715909 172.397922 \n\" clip-path=\"url(#p5677b346cb)\" style=\"fill: none; stroke: #8dd3c7; stroke-linecap: square\"/>\n   </g>\n   <g id=\"line2d_64\">\n    <path d=\"M 194.325 172.397922 \nL 194.325 214.756364 \n\" clip-path=\"url(#p5677b346cb)\" style=\"fill: none; stroke: #8dd3c7; stroke-linecap: square\"/>\n   </g>\n   <g id=\"line2d_65\">\n    <path d=\"M 194.325 87.681039 \nL 194.325 45.322597 \n\" clip-path=\"url(#p5677b346cb)\" style=\"fill: none; stroke: #8dd3c7; stroke-linecap: square\"/>\n   </g>\n   <g id=\"line2d_66\">\n    <path d=\"M 190.520455 214.756364 \nL 198.129545 214.756364 \n\" clip-path=\"url(#p5677b346cb)\" style=\"fill: none; stroke: #000000; stroke-linecap: square\"/>\n   </g>\n   <g id=\"line2d_67\">\n    <path d=\"M 190.520455 45.322597 \nL 198.129545 45.322597 \n\" clip-path=\"url(#p5677b346cb)\" style=\"fill: none; stroke: #000000; stroke-linecap: square\"/>\n   </g>\n   <g id=\"line2d_68\"/>\n   <g id=\"line2d_69\">\n    <path d=\"M 217.152273 158.278442 \nL 232.370455 158.278442 \nL 232.370455 64.148571 \nL 217.152273 64.148571 \nL 217.152273 158.278442 \n\" clip-path=\"url(#p5677b346cb)\" style=\"fill: none; stroke: #8dd3c7; stroke-linecap: square\"/>\n   </g>\n   <g id=\"line2d_70\">\n    <path d=\"M 224.761364 158.278442 \nL 224.761364 205.343377 \n\" clip-path=\"url(#p5677b346cb)\" style=\"fill: none; stroke: #8dd3c7; stroke-linecap: square\"/>\n   </g>\n   <g id=\"line2d_71\">\n    <path d=\"M 224.761364 64.148571 \nL 224.761364 17.083636 \n\" clip-path=\"url(#p5677b346cb)\" style=\"fill: none; stroke: #8dd3c7; stroke-linecap: square\"/>\n   </g>\n   <g id=\"line2d_72\">\n    <path d=\"M 220.956818 205.343377 \nL 228.565909 205.343377 \n\" clip-path=\"url(#p5677b346cb)\" style=\"fill: none; stroke: #000000; stroke-linecap: square\"/>\n   </g>\n   <g id=\"line2d_73\">\n    <path d=\"M 220.956818 17.083636 \nL 228.565909 17.083636 \n\" clip-path=\"url(#p5677b346cb)\" style=\"fill: none; stroke: #000000; stroke-linecap: square\"/>\n   </g>\n   <g id=\"line2d_74\"/>\n   <g id=\"line2d_75\">\n    <path d=\"M 247.588636 207.696623 \nL 262.806818 207.696623 \nL 262.806818 193.577143 \nL 247.588636 193.577143 \nL 247.588636 207.696623 \n\" clip-path=\"url(#p5677b346cb)\" style=\"fill: none; stroke: #8dd3c7; stroke-linecap: square\"/>\n   </g>\n   <g id=\"line2d_76\">\n    <path d=\"M 255.197727 207.696623 \nL 255.197727 214.756364 \n\" clip-path=\"url(#p5677b346cb)\" style=\"fill: none; stroke: #8dd3c7; stroke-linecap: square\"/>\n   </g>\n   <g id=\"line2d_77\">\n    <path d=\"M 255.197727 193.577143 \nL 255.197727 186.517403 \n\" clip-path=\"url(#p5677b346cb)\" style=\"fill: none; stroke: #8dd3c7; stroke-linecap: square\"/>\n   </g>\n   <g id=\"line2d_78\">\n    <path d=\"M 251.393182 214.756364 \nL 259.002273 214.756364 \n\" clip-path=\"url(#p5677b346cb)\" style=\"fill: none; stroke: #000000; stroke-linecap: square\"/>\n   </g>\n   <g id=\"line2d_79\">\n    <path d=\"M 251.393182 186.517403 \nL 259.002273 186.517403 \n\" clip-path=\"url(#p5677b346cb)\" style=\"fill: none; stroke: #000000; stroke-linecap: square\"/>\n   </g>\n   <g id=\"line2d_80\"/>\n   <g id=\"line2d_81\">\n    <path d=\"M 278.025 198.283636 \nL 293.243182 198.283636 \nL 293.243182 184.164156 \nL 278.025 184.164156 \nL 278.025 198.283636 \n\" clip-path=\"url(#p5677b346cb)\" style=\"fill: none; stroke: #8dd3c7; stroke-linecap: square\"/>\n   </g>\n   <g id=\"line2d_82\">\n    <path d=\"M 285.634091 198.283636 \nL 285.634091 205.343377 \n\" clip-path=\"url(#p5677b346cb)\" style=\"fill: none; stroke: #8dd3c7; stroke-linecap: square\"/>\n   </g>\n   <g id=\"line2d_83\">\n    <path d=\"M 285.634091 184.164156 \nL 285.634091 177.104416 \n\" clip-path=\"url(#p5677b346cb)\" style=\"fill: none; stroke: #8dd3c7; stroke-linecap: square\"/>\n   </g>\n   <g id=\"line2d_84\">\n    <path d=\"M 281.829545 205.343377 \nL 289.438636 205.343377 \n\" clip-path=\"url(#p5677b346cb)\" style=\"fill: none; stroke: #000000; stroke-linecap: square\"/>\n   </g>\n   <g id=\"line2d_85\">\n    <path d=\"M 281.829545 177.104416 \nL 289.438636 177.104416 \n\" clip-path=\"url(#p5677b346cb)\" style=\"fill: none; stroke: #000000; stroke-linecap: square\"/>\n   </g>\n   <g id=\"line2d_86\"/>\n   <g id=\"line2d_87\">\n    <path d=\"M 308.461364 198.283636 \nL 323.679545 198.283636 \nL 323.679545 184.164156 \nL 308.461364 184.164156 \nL 308.461364 198.283636 \n\" clip-path=\"url(#p5677b346cb)\" style=\"fill: none; stroke: #8dd3c7; stroke-linecap: square\"/>\n   </g>\n   <g id=\"line2d_88\">\n    <path d=\"M 316.070455 198.283636 \nL 316.070455 205.343377 \n\" clip-path=\"url(#p5677b346cb)\" style=\"fill: none; stroke: #8dd3c7; stroke-linecap: square\"/>\n   </g>\n   <g id=\"line2d_89\">\n    <path d=\"M 316.070455 184.164156 \nL 316.070455 177.104416 \n\" clip-path=\"url(#p5677b346cb)\" style=\"fill: none; stroke: #8dd3c7; stroke-linecap: square\"/>\n   </g>\n   <g id=\"line2d_90\">\n    <path d=\"M 312.265909 205.343377 \nL 319.875 205.343377 \n\" clip-path=\"url(#p5677b346cb)\" style=\"fill: none; stroke: #000000; stroke-linecap: square\"/>\n   </g>\n   <g id=\"line2d_91\">\n    <path d=\"M 312.265909 177.104416 \nL 319.875 177.104416 \n\" clip-path=\"url(#p5677b346cb)\" style=\"fill: none; stroke: #000000; stroke-linecap: square\"/>\n   </g>\n   <g id=\"line2d_92\"/>\n   <g id=\"line2d_93\">\n    <path d=\"M 338.897727 127.686234 \nL 354.115909 127.686234 \nL 354.115909 104.153766 \nL 338.897727 104.153766 \nL 338.897727 127.686234 \n\" clip-path=\"url(#p5677b346cb)\" style=\"fill: none; stroke: #8dd3c7; stroke-linecap: square\"/>\n   </g>\n   <g id=\"line2d_94\">\n    <path d=\"M 346.506818 127.686234 \nL 346.506818 139.452468 \n\" clip-path=\"url(#p5677b346cb)\" style=\"fill: none; stroke: #8dd3c7; stroke-linecap: square\"/>\n   </g>\n   <g id=\"line2d_95\">\n    <path d=\"M 346.506818 104.153766 \nL 346.506818 92.387532 \n\" clip-path=\"url(#p5677b346cb)\" style=\"fill: none; stroke: #8dd3c7; stroke-linecap: square\"/>\n   </g>\n   <g id=\"line2d_96\">\n    <path d=\"M 342.702273 139.452468 \nL 350.311364 139.452468 \n\" clip-path=\"url(#p5677b346cb)\" style=\"fill: none; stroke: #000000; stroke-linecap: square\"/>\n   </g>\n   <g id=\"line2d_97\">\n    <path d=\"M 342.702273 92.387532 \nL 350.311364 92.387532 \n\" clip-path=\"url(#p5677b346cb)\" style=\"fill: none; stroke: #000000; stroke-linecap: square\"/>\n   </g>\n   <g id=\"line2d_98\"/>\n   <g id=\"line2d_99\">\n    <path d=\"M 34.534091 214.756364 \nL 49.752273 214.756364 \n\" clip-path=\"url(#p5677b346cb)\" style=\"fill: none; stroke: #bfbbd9; stroke-linecap: square\"/>\n   </g>\n   <g id=\"line2d_100\">\n    <path d=\"M 64.970455 210.04987 \nL 80.188636 210.04987 \n\" clip-path=\"url(#p5677b346cb)\" style=\"fill: none; stroke: #bfbbd9; stroke-linecap: square\"/>\n   </g>\n   <g id=\"line2d_101\">\n    <path d=\"M 95.406818 186.517403 \nL 110.625 186.517403 \n\" clip-path=\"url(#p5677b346cb)\" style=\"fill: none; stroke: #bfbbd9; stroke-linecap: square\"/>\n   </g>\n   <g id=\"line2d_102\">\n    <path d=\"M 125.843182 200.636883 \nL 141.061364 200.636883 \n\" clip-path=\"url(#p5677b346cb)\" style=\"fill: none; stroke: #bfbbd9; stroke-linecap: square\"/>\n   </g>\n   <g id=\"line2d_103\">\n    <path d=\"M 156.279545 186.517403 \nL 171.497727 186.517403 \n\" clip-path=\"url(#p5677b346cb)\" style=\"fill: none; stroke: #bfbbd9; stroke-linecap: square\"/>\n   </g>\n   <g id=\"line2d_104\">\n    <path d=\"M 186.715909 130.039481 \nL 201.934091 130.039481 \n\" clip-path=\"url(#p5677b346cb)\" style=\"fill: none; stroke: #bfbbd9; stroke-linecap: square\"/>\n   </g>\n   <g id=\"line2d_105\">\n    <path d=\"M 217.152273 111.213506 \nL 232.370455 111.213506 \n\" clip-path=\"url(#p5677b346cb)\" style=\"fill: none; stroke: #bfbbd9; stroke-linecap: square\"/>\n   </g>\n   <g id=\"line2d_106\">\n    <path d=\"M 247.588636 200.636883 \nL 262.806818 200.636883 \n\" clip-path=\"url(#p5677b346cb)\" style=\"fill: none; stroke: #bfbbd9; stroke-linecap: square\"/>\n   </g>\n   <g id=\"line2d_107\">\n    <path d=\"M 278.025 191.223896 \nL 293.243182 191.223896 \n\" clip-path=\"url(#p5677b346cb)\" style=\"fill: none; stroke: #bfbbd9; stroke-linecap: square\"/>\n   </g>\n   <g id=\"line2d_108\">\n    <path d=\"M 308.461364 191.223896 \nL 323.679545 191.223896 \n\" clip-path=\"url(#p5677b346cb)\" style=\"fill: none; stroke: #bfbbd9; stroke-linecap: square\"/>\n   </g>\n   <g id=\"line2d_109\">\n    <path d=\"M 338.897727 115.92 \nL 354.115909 115.92 \n\" clip-path=\"url(#p5677b346cb)\" style=\"fill: none; stroke: #bfbbd9; stroke-linecap: square\"/>\n   </g>\n   <g id=\"patch_3\">\n    <path d=\"M 26.925 224.64 \nL 26.925 7.2 \n\" style=\"fill: none; stroke: #ffffff; stroke-width: 0.8; stroke-linejoin: miter; stroke-linecap: square\"/>\n   </g>\n   <g id=\"patch_4\">\n    <path d=\"M 361.725 224.64 \nL 361.725 7.2 \n\" style=\"fill: none; stroke: #ffffff; stroke-width: 0.8; stroke-linejoin: miter; stroke-linecap: square\"/>\n   </g>\n   <g id=\"patch_5\">\n    <path d=\"M 26.925 224.64 \nL 361.725 224.64 \n\" style=\"fill: none; stroke: #ffffff; stroke-width: 0.8; stroke-linejoin: miter; stroke-linecap: square\"/>\n   </g>\n   <g id=\"patch_6\">\n    <path d=\"M 26.925 7.2 \nL 361.725 7.2 \n\" style=\"fill: none; stroke: #ffffff; stroke-width: 0.8; stroke-linejoin: miter; stroke-linecap: square\"/>\n   </g>\n  </g>\n </g>\n <defs>\n  <clipPath id=\"p5677b346cb\">\n   <rect x=\"26.925\" y=\"7.2\" width=\"334.8\" height=\"217.44\"/>\n  </clipPath>\n </defs>\n</svg>\n",
      "text/plain": [
       "<Figure size 432x288 with 1 Axes>"
      ]
     },
     "metadata": {},
     "output_type": "display_data"
    }
   ],
   "source": [
    "df.boxplot()"
   ]
  },
  {
   "cell_type": "code",
   "execution_count": 12,
   "metadata": {},
   "outputs": [
    {
     "name": "stdout",
     "output_type": "stream",
     "text": [
      "Requirement already satisfied: pyyaml in /home/gitpod/.pyenv/versions/3.8.13/lib/python3.8/site-packages (6.0)\n"
     ]
    }
   ],
   "source": []
  },
  {
   "cell_type": "code",
   "execution_count": null,
   "metadata": {},
   "outputs": [],
   "source": []
  }
 ],
 "metadata": {
  "interpreter": {
   "hash": "110cc1dee26208153f2972f08a2ad52b6a56238dc66d48e87fb757ef2996db56"
  },
  "kernelspec": {
   "display_name": "Python 3.8.13 64-bit ('3.8.13')",
   "language": "python",
   "name": "python3"
  },
  "language_info": {
   "codemirror_mode": {
    "name": "ipython",
    "version": 3
   },
   "file_extension": ".py",
   "mimetype": "text/x-python",
   "name": "python",
   "nbconvert_exporter": "python",
   "pygments_lexer": "ipython3",
   "version": "3.8.13"
  },
  "orig_nbformat": 4
 },
 "nbformat": 4,
 "nbformat_minor": 2
}
