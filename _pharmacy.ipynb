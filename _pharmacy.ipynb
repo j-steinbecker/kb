{
 "cells": [
  {
   "cell_type": "code",
   "execution_count": 13,
   "metadata": {},
   "outputs": [
    {
     "name": "stderr",
     "output_type": "stream",
     "text": [
      "bash: line 1: fg: no job control\n",
      "bash: line 2: fg: no job control\n",
      "bash: line 3: fg: no job control\n"
     ]
    },
    {
     "ename": "CalledProcessError",
     "evalue": "Command 'b'%pip install pandas \\n%pip install matplotlib\\n%pip install seaborn\\n'' returned non-zero exit status 1.",
     "output_type": "error",
     "traceback": [
      "\u001b[0;31m---------------------------------------------------------------------------\u001b[0m",
      "\u001b[0;31mCalledProcessError\u001b[0m                        Traceback (most recent call last)",
      "\u001b[1;32m/workspace/kb/_pharmacy.ipynb Cell 1'\u001b[0m in \u001b[0;36m<cell line: 1>\u001b[0;34m()\u001b[0m\n\u001b[0;32m----> <a href='vscode-notebook-cell://jsteinbecker-kb-qteqqr3o812.ws-us43.gitpod.io/workspace/kb/_pharmacy.ipynb#ch0000008vscode-remote?line=0'>1</a>\u001b[0m get_ipython()\u001b[39m.\u001b[39;49mrun_cell_magic(\u001b[39m'\u001b[39;49m\u001b[39mbash\u001b[39;49m\u001b[39m'\u001b[39;49m, \u001b[39m'\u001b[39;49m\u001b[39m'\u001b[39;49m, \u001b[39m'\u001b[39;49m\u001b[39m%\u001b[39;49m\u001b[39mpip install pandas \u001b[39;49m\u001b[39m\\n\u001b[39;49;00m\u001b[39m%\u001b[39;49m\u001b[39mpip install matplotlib\u001b[39;49m\u001b[39m\\n\u001b[39;49;00m\u001b[39m%\u001b[39;49m\u001b[39mpip install seaborn\u001b[39;49m\u001b[39m\\n\u001b[39;49;00m\u001b[39m'\u001b[39;49m)\n",
      "File \u001b[0;32m~/.pyenv/versions/3.8.13/lib/python3.8/site-packages/IPython/core/interactiveshell.py:2347\u001b[0m, in \u001b[0;36mInteractiveShell.run_cell_magic\u001b[0;34m(self, magic_name, line, cell)\u001b[0m\n\u001b[1;32m   <a href='file:///home/gitpod/.pyenv/versions/3.8.13/lib/python3.8/site-packages/IPython/core/interactiveshell.py?line=2344'>2345</a>\u001b[0m \u001b[39mwith\u001b[39;00m \u001b[39mself\u001b[39m\u001b[39m.\u001b[39mbuiltin_trap:\n\u001b[1;32m   <a href='file:///home/gitpod/.pyenv/versions/3.8.13/lib/python3.8/site-packages/IPython/core/interactiveshell.py?line=2345'>2346</a>\u001b[0m     args \u001b[39m=\u001b[39m (magic_arg_s, cell)\n\u001b[0;32m-> <a href='file:///home/gitpod/.pyenv/versions/3.8.13/lib/python3.8/site-packages/IPython/core/interactiveshell.py?line=2346'>2347</a>\u001b[0m     result \u001b[39m=\u001b[39m fn(\u001b[39m*\u001b[39;49margs, \u001b[39m*\u001b[39;49m\u001b[39m*\u001b[39;49mkwargs)\n\u001b[1;32m   <a href='file:///home/gitpod/.pyenv/versions/3.8.13/lib/python3.8/site-packages/IPython/core/interactiveshell.py?line=2347'>2348</a>\u001b[0m \u001b[39mreturn\u001b[39;00m result\n",
      "File \u001b[0;32m~/.pyenv/versions/3.8.13/lib/python3.8/site-packages/IPython/core/magics/script.py:153\u001b[0m, in \u001b[0;36mScriptMagics._make_script_magic.<locals>.named_script_magic\u001b[0;34m(line, cell)\u001b[0m\n\u001b[1;32m    <a href='file:///home/gitpod/.pyenv/versions/3.8.13/lib/python3.8/site-packages/IPython/core/magics/script.py?line=150'>151</a>\u001b[0m \u001b[39melse\u001b[39;00m:\n\u001b[1;32m    <a href='file:///home/gitpod/.pyenv/versions/3.8.13/lib/python3.8/site-packages/IPython/core/magics/script.py?line=151'>152</a>\u001b[0m     line \u001b[39m=\u001b[39m script\n\u001b[0;32m--> <a href='file:///home/gitpod/.pyenv/versions/3.8.13/lib/python3.8/site-packages/IPython/core/magics/script.py?line=152'>153</a>\u001b[0m \u001b[39mreturn\u001b[39;00m \u001b[39mself\u001b[39;49m\u001b[39m.\u001b[39;49mshebang(line, cell)\n",
      "File \u001b[0;32m~/.pyenv/versions/3.8.13/lib/python3.8/site-packages/IPython/core/magics/script.py:305\u001b[0m, in \u001b[0;36mScriptMagics.shebang\u001b[0;34m(self, line, cell)\u001b[0m\n\u001b[1;32m    <a href='file:///home/gitpod/.pyenv/versions/3.8.13/lib/python3.8/site-packages/IPython/core/magics/script.py?line=299'>300</a>\u001b[0m \u001b[39mif\u001b[39;00m args\u001b[39m.\u001b[39mraise_error \u001b[39mand\u001b[39;00m p\u001b[39m.\u001b[39mreturncode \u001b[39m!=\u001b[39m \u001b[39m0\u001b[39m:\n\u001b[1;32m    <a href='file:///home/gitpod/.pyenv/versions/3.8.13/lib/python3.8/site-packages/IPython/core/magics/script.py?line=300'>301</a>\u001b[0m     \u001b[39m# If we get here and p.returncode is still None, we must have\u001b[39;00m\n\u001b[1;32m    <a href='file:///home/gitpod/.pyenv/versions/3.8.13/lib/python3.8/site-packages/IPython/core/magics/script.py?line=301'>302</a>\u001b[0m     \u001b[39m# killed it but not yet seen its return code. We don't wait for it,\u001b[39;00m\n\u001b[1;32m    <a href='file:///home/gitpod/.pyenv/versions/3.8.13/lib/python3.8/site-packages/IPython/core/magics/script.py?line=302'>303</a>\u001b[0m     \u001b[39m# in case it's stuck in uninterruptible sleep. -9 = SIGKILL\u001b[39;00m\n\u001b[1;32m    <a href='file:///home/gitpod/.pyenv/versions/3.8.13/lib/python3.8/site-packages/IPython/core/magics/script.py?line=303'>304</a>\u001b[0m     rc \u001b[39m=\u001b[39m p\u001b[39m.\u001b[39mreturncode \u001b[39mor\u001b[39;00m \u001b[39m-\u001b[39m\u001b[39m9\u001b[39m\n\u001b[0;32m--> <a href='file:///home/gitpod/.pyenv/versions/3.8.13/lib/python3.8/site-packages/IPython/core/magics/script.py?line=304'>305</a>\u001b[0m     \u001b[39mraise\u001b[39;00m CalledProcessError(rc, cell)\n",
      "\u001b[0;31mCalledProcessError\u001b[0m: Command 'b'%pip install pandas \\n%pip install matplotlib\\n%pip install seaborn\\n'' returned non-zero exit status 1."
     ]
    }
   ],
   "source": [
    "%%bash\n",
    "%pip install pandas \n",
    "%pip install matplotlib\n",
    "%pip install seaborn"
   ]
  },
  {
   "cell_type": "code",
   "execution_count": 14,
   "metadata": {},
   "outputs": [],
   "source": [
    "import pandas as pd\n",
    "import numpy as np\n",
    "from IPython.display import display\n",
    "import yaml\n",
    "import pprint\n",
    "\n",
    "from func.alligate import Alligate"
   ]
  },
  {
   "cell_type": "code",
   "execution_count": 15,
   "metadata": {},
   "outputs": [],
   "source": [
    "DATAYAML = \"\"\"\n",
    "---\n",
    "2022:\n",
    "    04:\n",
    "        30: 7C\n",
    "    05:\n",
    "        1:  7C\n",
    "        3:  EI\n",
    "        5:  EI\n",
    "        9:  3\n",
    "        10: 3\n",
    "...\n",
    "\"\"\""
   ]
  },
  {
   "cell_type": "code",
   "execution_count": 9,
   "metadata": {},
   "outputs": [],
   "source": [
    "def yml (data):\n",
    "    return yaml.load(data,Loader=yaml.Loader)"
   ]
  },
  {
   "cell_type": "code",
   "execution_count": 10,
   "metadata": {},
   "outputs": [
    {
     "name": "stdout",
     "output_type": "stream",
     "text": [
      "RECEPIE FOR\n",
      "345mL of 1.3% NaCl\n",
      "---------------------------------------------\n",
      "\n",
      "\t+ 65.71mL of 3.0% NaCl\n",
      "\n",
      "\t+ 279.29mL of 0.9% NaCl\n",
      "\n",
      "---------------------------------------------\n",
      "\\t   345mL of 1.3% NaCl\n"
     ]
    }
   ],
   "source": [
    "Alligate(\n",
    "    \"NaCl\",\n",
    "    0.03,\n",
    "    0.009,\n",
    "    0.013,\n",
    "    345) # mL"
   ]
  },
  {
   "cell_type": "code",
   "execution_count": 11,
   "metadata": {},
   "outputs": [
    {
     "data": {
      "text/html": [
       "<div>\n",
       "<style scoped>\n",
       "    .dataframe tbody tr th:only-of-type {\n",
       "        vertical-align: middle;\n",
       "    }\n",
       "\n",
       "    .dataframe tbody tr th {\n",
       "        vertical-align: top;\n",
       "    }\n",
       "\n",
       "    .dataframe thead th {\n",
       "        text-align: right;\n",
       "    }\n",
       "</style>\n",
       "<table border=\"1\" class=\"dataframe\">\n",
       "  <thead>\n",
       "    <tr style=\"text-align: right;\">\n",
       "      <th></th>\n",
       "      <th>A</th>\n",
       "      <th>B</th>\n",
       "      <th>C</th>\n",
       "      <th>D</th>\n",
       "      <th>E</th>\n",
       "      <th>F</th>\n",
       "      <th>G</th>\n",
       "      <th>H</th>\n",
       "      <th>I</th>\n",
       "      <th>J</th>\n",
       "      <th>K</th>\n",
       "    </tr>\n",
       "  </thead>\n",
       "  <tbody>\n",
       "    <tr>\n",
       "      <th>num</th>\n",
       "      <td>1</td>\n",
       "      <td>2</td>\n",
       "      <td>6</td>\n",
       "      <td>3</td>\n",
       "      <td>5</td>\n",
       "      <td>19</td>\n",
       "      <td>22</td>\n",
       "      <td>1</td>\n",
       "      <td>5</td>\n",
       "      <td>2</td>\n",
       "      <td>14</td>\n",
       "    </tr>\n",
       "    <tr>\n",
       "      <th>val</th>\n",
       "      <td>1</td>\n",
       "      <td>1</td>\n",
       "      <td>2</td>\n",
       "      <td>2</td>\n",
       "      <td>3</td>\n",
       "      <td>1</td>\n",
       "      <td>2</td>\n",
       "      <td>4</td>\n",
       "      <td>2</td>\n",
       "      <td>5</td>\n",
       "      <td>9</td>\n",
       "    </tr>\n",
       "  </tbody>\n",
       "</table>\n",
       "</div>"
      ],
      "text/plain": [
       "     A  B  C  D  E   F   G  H  I  J   K\n",
       "num  1  2  6  3  5  19  22  1  5  2  14\n",
       "val  1  1  2  2  3   1   2  4  2  5   9"
      ]
     },
     "execution_count": 11,
     "metadata": {},
     "output_type": "execute_result"
    }
   ],
   "source": [
    "letters = list(\"ABCDEFGHIJKLMNOP\")\n",
    "nums = [1,2,6,3,5,19, 22,1,5,2,14]\n",
    "vals = [1,1,2,2,3,1,  2, 4,2,5,9]\n",
    "\n",
    "df = pd.DataFrame(\n",
    "    (nums,vals),\n",
    "    columns= letters[0: len(nums)],\n",
    "    index= [\"num\",\"val\"])\n",
    "df"
   ]
  },
  {
   "cell_type": "code",
   "execution_count": 16,
   "metadata": {},
   "outputs": [
    {
     "data": {
      "text/plain": [
       "<AxesSubplot:>"
      ]
     },
     "execution_count": 16,
     "metadata": {},
     "output_type": "execute_result"
    },
    {
     "data": {
      "image/png": "[encoded data removed]",
      "text/plain": [
       "<Figure size 432x288 with 1 Axes>"
      ]
     },
     "metadata": {
      "needs_background": "light"
     },
     "output_type": "display_data"
    }
   ],
   "source": [
    "df.boxplot()"
   ]
  },
  {
   "cell_type": "code",
   "execution_count": null,
   "metadata": {},
   "outputs": [],
   "source": []
  },
  {
   "cell_type": "code",
   "execution_count": null,
   "metadata": {},
   "outputs": [],
   "source": []
  }
 ],
 "metadata": {
  "interpreter": {
   "hash": "110cc1dee26208153f2972f08a2ad52b6a56238dc66d48e87fb757ef2996db56"
  },
  "kernelspec": {
   "display_name": "Python 3.8.13 64-bit ('3.8.13')",
   "language": "python",
   "name": "python3"
  },
  "language_info": {
   "codemirror_mode": {
    "name": "ipython",
    "version": 3
   },
   "file_extension": ".py",
   "mimetype": "text/x-python",
   "name": "python",
   "nbconvert_exporter": "python",
   "pygments_lexer": "ipython3",
   "version": "3.8.13"
  },
  "orig_nbformat": 4
 },
 "nbformat": 4,
 "nbformat_minor": 2
}
